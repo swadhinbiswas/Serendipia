{
 "cells": [
  {
   "cell_type": "code",
   "execution_count": 1,
   "metadata": {},
   "outputs": [
    {
     "ename": "ImportError",
     "evalue": "cannot import name 'Update' from partially initialized module 'telegram' (most likely due to a circular import) (/home/swadhin/ProjectDev/Serendipia/backend/telegram/telegram.py)",
     "output_type": "error",
     "traceback": [
      "\u001b[0;31m---------------------------------------------------------------------------\u001b[0m",
      "\u001b[0;31mImportError\u001b[0m                               Traceback (most recent call last)",
      "Cell \u001b[0;32mIn[1], line 1\u001b[0m\n\u001b[0;32m----> 1\u001b[0m \u001b[38;5;28;01mfrom\u001b[39;00m \u001b[38;5;21;01mtelegram\u001b[39;00m \u001b[38;5;28;01mimport\u001b[39;00m Update\n\u001b[1;32m      2\u001b[0m \u001b[38;5;28;01mfrom\u001b[39;00m \u001b[38;5;21;01mtelegram\u001b[39;00m\u001b[38;5;21;01m.\u001b[39;00m\u001b[38;5;21;01mext\u001b[39;00m \u001b[38;5;28;01mimport\u001b[39;00m Application, CommandHandler, MessageHandler, filters, CallbackContext\n\u001b[1;32m      4\u001b[0m TOKEN \u001b[38;5;241m=\u001b[39m \u001b[38;5;124m\"\u001b[39m\u001b[38;5;124m7896677399:AAGTBCw_vrOXN9LCa_V3MPhF_c8vUb2Vwo8\u001b[39m\u001b[38;5;124m\"\u001b[39m\n",
      "File \u001b[0;32m~/ProjectDev/Serendipia/backend/telegram/telegram.py:1\u001b[0m\n\u001b[0;32m----> 1\u001b[0m \u001b[38;5;28;01mfrom\u001b[39;00m \u001b[38;5;21;01mtelegram\u001b[39;00m \u001b[38;5;28;01mimport\u001b[39;00m Update\n\u001b[1;32m      2\u001b[0m \u001b[38;5;28;01mfrom\u001b[39;00m \u001b[38;5;21;01mtelegram\u001b[39;00m\u001b[38;5;21;01m.\u001b[39;00m\u001b[38;5;21;01mext\u001b[39;00m \u001b[38;5;28;01mimport\u001b[39;00m Application, CommandHandler, MessageHandler, filters, CallbackContext\n\u001b[1;32m      4\u001b[0m TOKEN \u001b[38;5;241m=\u001b[39m \u001b[38;5;124m\"\u001b[39m\u001b[38;5;124m7896677399:AAGTBCw_vrOXN9LCa_V3MPhF_c8vUb2Vwo8\u001b[39m\u001b[38;5;124m\"\u001b[39m\n",
      "\u001b[0;31mImportError\u001b[0m: cannot import name 'Update' from partially initialized module 'telegram' (most likely due to a circular import) (/home/swadhin/ProjectDev/Serendipia/backend/telegram/telegram.py)"
     ]
    }
   ],
   "source": [
    "from telegram import Update\n",
    "from telegram.ext import Application, CommandHandler, MessageHandler, filters, CallbackContext\n",
    "\n",
    "TOKEN = \"7896677399:AAGTBCw_vrOXN9LCa_V3MPhF_c8vUb2Vwo8\"\n",
    "\n",
    "async def start(update: Update, context: CallbackContext) -> None:\n",
    "    await update.message.reply_text(\"Hello! Send me a message, and I'll echo it back!\")\n",
    "\n",
    "async def echo(update: Update, context: CallbackContext) -> None:\n",
    "    await update.message.reply_text(update.message.text)\n",
    "    \n",
    "    \n",
    "async def dev(update: Update, context: CallbackContext) -> None:\n",
    "    message=\"\"\"\n",
    "                                    🤖 **This Bot is developed by** [@swadhinbiswas](https://github.com/swadhinbiswas)  \n",
    "💻 **Software Engineer | Open Source Enthusiast**  \n",
    "🚀 **Founder of** [Boring Rats](https://github.com/BoringRats) – Empowering students through open-source!  \n",
    "🛠 **Expert in:** Python, Django, DRF, React, TailwindCSS, Automation & IoT  \n",
    "📧 **Contact:** [swadhinbiswas.dev@gmail.com](mailto:swadhinbiswas.dev@gmail.com)  \n",
    "🌐 **Portfolio:** [Coming Soon!]  \n",
    "\n",
    "                                    \n",
    "                                    \"\"\"\n",
    "    await update.message.reply_text(message, parse_mode=\"Markdown\")\n",
    "\n",
    "def main():\n",
    "    app = Application.builder().token(TOKEN).build()\n",
    "    \n",
    "    app.add_handler(CommandHandler(\"start\", start))\n",
    "    app.add_handler(MessageHandler(filters.TEXT & ~filters.COMMAND, echo))\n",
    "\n",
    "    print(\"Bot is running...\")\n",
    "    app.run_polling()\n",
    "\n",
    "if __name__ == \"__main__\":\n",
    "    main()\n"
   ]
  }
 ],
 "metadata": {
  "kernelspec": {
   "display_name": "Python 3",
   "language": "python",
   "name": "python3"
  },
  "language_info": {
   "codemirror_mode": {
    "name": "ipython",
    "version": 3
   },
   "file_extension": ".py",
   "mimetype": "text/x-python",
   "name": "python",
   "nbconvert_exporter": "python",
   "pygments_lexer": "ipython3",
   "version": "3.11.8"
  }
 },
 "nbformat": 4,
 "nbformat_minor": 2
}
